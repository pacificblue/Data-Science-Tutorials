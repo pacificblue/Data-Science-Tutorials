{
 "cells": [
  {
   "cell_type": "markdown",
   "metadata": {},
   "source": [
    "# Basic Manual RNN"
   ]
  },
  {
   "cell_type": "code",
   "execution_count": 42,
   "metadata": {
    "collapsed": true
   },
   "outputs": [],
   "source": [
    "import numpy as np\n",
    "import tensorflow as tf\n",
    "import matplotlib.pyplot as plt\n",
    "%matplotlib inline"
   ]
  },
  {
   "cell_type": "markdown",
   "metadata": {},
   "source": [
    "## Constants"
   ]
  },
  {
   "cell_type": "code",
   "execution_count": 43,
   "metadata": {
    "collapsed": true
   },
   "outputs": [],
   "source": [
    "# Number of inputs for each example\n",
    "num_inputs = 2\n",
    "\n",
    "# Number of neurons in first layer\n",
    "num_neurons = 3"
   ]
  },
  {
   "cell_type": "markdown",
   "metadata": {},
   "source": [
    "## Placeholders"
   ]
  },
  {
   "cell_type": "code",
   "execution_count": 44,
   "metadata": {
    "collapsed": true
   },
   "outputs": [],
   "source": [
    "# We now need two Xs! One for each timestamp (t=0 and t=1)\n",
    "x0 = tf.placeholder(tf.float32,[None,num_inputs])\n",
    "x1 = tf.placeholder(tf.float32,[None,num_inputs])"
   ]
  },
  {
   "cell_type": "markdown",
   "metadata": {},
   "source": [
    "## Variables"
   ]
  },
  {
   "cell_type": "code",
   "execution_count": 45,
   "metadata": {
    "collapsed": true
   },
   "outputs": [],
   "source": [
    "# We'll also need a Weights variable for each x\n",
    "# Notice the shape dimensions on both!\n",
    "Wx = tf.Variable(tf.random_normal(shape=[num_inputs,num_neurons]))\n",
    "Wy = tf.Variable(tf.random_normal(shape=[num_neurons,num_neurons]))\n",
    "b = tf.Variable(tf.zeros([1,num_neurons]))"
   ]
  },
  {
   "cell_type": "markdown",
   "metadata": {},
   "source": [
    "## Graphs"
   ]
  },
  {
   "cell_type": "code",
   "execution_count": 46,
   "metadata": {
    "collapsed": true
   },
   "outputs": [],
   "source": [
    "# First Activation\n",
    "y0 = tf.tanh(tf.matmul(x0,Wx) + b)\n",
    "y1 = tf.tanh(tf.matmul(y0,Wy) + tf.matmul(x1,Wx) + b)"
   ]
  },
  {
   "cell_type": "markdown",
   "metadata": {},
   "source": [
    "## Initialize Variables"
   ]
  },
  {
   "cell_type": "code",
   "execution_count": 47,
   "metadata": {
    "collapsed": true
   },
   "outputs": [],
   "source": [
    "init = tf.global_variables_initializer()"
   ]
  },
  {
   "cell_type": "markdown",
   "metadata": {},
   "source": [
    "## Run Session"
   ]
  },
  {
   "cell_type": "code",
   "execution_count": 48,
   "metadata": {
    "collapsed": true
   },
   "outputs": [],
   "source": [
    "# Some data;\n",
    "# BATCH 0:       example1 , example2, example 3\n",
    "# DATA AT TIMESTAMP = 1\n",
    "x0_batch = np.array(\n",
    "    [[0,1],  [2,3],    [4,5]])\n",
    "# BATCH 0:          example1 ,   example2,   example 3\n",
    "# DATA AT TIMESTAMP = 1\n",
    "x1_batch = np.array(\n",
    "    [[100,101], [102,103],  [104,105]])\n",
    "\n",
    "with tf.Session() as sess:\n",
    "    sess.run(init)\n",
    "    y0_output_vals , y1_output_vals  = sess.run(\n",
    "        [y0,y1],feed_dict={x0:x0_batch,x1:x1_batch})"
   ]
  },
  {
   "cell_type": "code",
   "execution_count": 49,
   "metadata": {},
   "outputs": [
    {
     "data": {
      "text/plain": [
       "array([[-0.79196179, -0.1730756 ,  0.91266376],\n",
       "       [-0.99970078, -0.98578572,  0.99794251],\n",
       "       [-0.99999964, -0.99985462,  0.99995357]], dtype=float32)"
      ]
     },
     "execution_count": 49,
     "metadata": {},
     "output_type": "execute_result"
    }
   ],
   "source": [
    "# The output of values at t=0\n",
    "y0_output_vals"
   ]
  },
  {
   "cell_type": "code",
   "execution_count": 50,
   "metadata": {},
   "outputs": [
    {
     "data": {
      "text/plain": [
       "\"\\nThis won't scale! So let's use tensorFlow!\\n\""
      ]
     },
     "execution_count": 50,
     "metadata": {},
     "output_type": "execute_result"
    }
   ],
   "source": [
    "# Output at t=1\n",
    "y1_output_vals\n",
    "\n",
    "\"\"\"\n",
    "This won't scale! So let's use tensorFlow!\n",
    "\"\"\""
   ]
  },
  {
   "cell_type": "markdown",
   "metadata": {},
   "source": [
    "# RNN with TensorFlow API"
   ]
  },
  {
   "cell_type": "markdown",
   "metadata": {},
   "source": [
    "## The Data"
   ]
  },
  {
   "cell_type": "code",
   "execution_count": 51,
   "metadata": {},
   "outputs": [
    {
     "data": {
      "text/plain": [
       "[<matplotlib.lines.Line2D at 0x22d78c587f0>]"
      ]
     },
     "execution_count": 51,
     "metadata": {},
     "output_type": "execute_result"
    },
    {
     "data": {
      "image/png": "[encoded data removed]",
      "text/plain": [
       "<matplotlib.figure.Figure at 0x22d78972390>"
      ]
     },
     "metadata": {},
     "output_type": "display_data"
    }
   ],
   "source": [
    "class TimeSeriesData():\n",
    "    def __init__(self,num_points,xmin,xmax):\n",
    "        self.xmin = xmin\n",
    "        self.xmax = xmax\n",
    "        self.num_points = num_points\n",
    "        self.resolution = (xmax-xmin)/num_points\n",
    "        self.x_data = np.linspace(xmin,xmax,num_points)\n",
    "        self.y_true = np.sin(self.x_data)\n",
    "    \n",
    "    def ret_true(self,x_series):\n",
    "        return np.sin(x_series)\n",
    "    \n",
    "    def next_batch(\n",
    "        self,batch_size,steps,return_batch_ts=False):\n",
    "        # Grab a random starting point for each batch\n",
    "        rand_start = np.random.rand(batch_size,1) \n",
    "        # Convert to be on time series\n",
    "        ts_start = rand_start * (\n",
    "            self.xmax- self.xmin - (steps*self.resolution) )\n",
    "        # Create batch Time Series on t axis\n",
    "        batch_ts = ts_start + np.arange(0.0,steps+1) * self.resolution\n",
    "        # Create Y data for time series in the batches\n",
    "        y_batch = np.sin(batch_ts)\n",
    "        # Format for RNN\n",
    "        if return_batch_ts:\n",
    "            return y_batch[:, :-1].reshape(\n",
    "                -1, steps, 1), y_batch[:, 1:].reshape(-1, steps, 1) ,batch_ts\n",
    "        else:\n",
    "            return y_batch[:, :-1].reshape(\n",
    "                -1, steps, 1), y_batch[:, 1:].reshape(-1, steps, 1) \n",
    "        \n",
    "ts_data = TimeSeriesData(250,0,10)\n",
    "plt.plot(ts_data.x_data,ts_data.y_true)"
   ]
  },
  {
   "cell_type": "code",
   "execution_count": 52,
   "metadata": {},
   "outputs": [
    {
     "data": {
      "text/plain": [
       "[<matplotlib.lines.Line2D at 0x22d78a85048>]"
      ]
     },
     "execution_count": 52,
     "metadata": {},
     "output_type": "execute_result"
    },
    {
     "data": {
      "image/png": "[encoded data removed]",
      "text/plain": [
       "<matplotlib.figure.Figure at 0x22d7895d668>"
      ]
     },
     "metadata": {},
     "output_type": "display_data"
    }
   ],
   "source": [
    "# Num of steps in batch (also used for prediction steps into the future)\n",
    "num_time_steps = 30\n",
    "y1,y2,ts = ts_data.next_batch(1,num_time_steps,True)\n",
    "plt.plot(ts.flatten()[1:],y2.flatten(),'*')"
   ]
  },
  {
   "cell_type": "code",
   "execution_count": 53,
   "metadata": {},
   "outputs": [
    {
     "data": {
      "image/png": "[encoded data removed]",
      "text/plain": [
       "<matplotlib.figure.Figure at 0x22d79000c88>"
      ]
     },
     "metadata": {},
     "output_type": "display_data"
    }
   ],
   "source": [
    "plt.plot(ts_data.x_data,ts_data.y_true,label='Sin(t)')\n",
    "plt.plot(ts.flatten()[1:],y2.flatten(),'*',label='Single Training Instance')\n",
    "plt.legend()\n",
    "plt.tight_layout()"
   ]
  },
  {
   "cell_type": "markdown",
   "metadata": {},
   "source": [
    "## Training Instance and what to Predict"
   ]
  },
  {
   "cell_type": "markdown",
   "metadata": {},
   "source": [
    "We are trying to predict a time series shifted over by t+1"
   ]
  },
  {
   "cell_type": "code",
   "execution_count": 54,
   "metadata": {
    "collapsed": true
   },
   "outputs": [],
   "source": [
    "train_inst = np.linspace(5,5 + ts_data.resolution * \n",
    "                         (num_time_steps + 1), num_time_steps+1)"
   ]
  },
  {
   "cell_type": "code",
   "execution_count": 55,
   "metadata": {},
   "outputs": [
    {
     "data": {
      "text/plain": [
       "[<matplotlib.lines.Line2D at 0x22d78a51da0>]"
      ]
     },
     "execution_count": 55,
     "metadata": {},
     "output_type": "execute_result"
    },
    {
     "data": {
      "image/png": "[encoded data removed]",
      "text/plain": [
       "<matplotlib.figure.Figure at 0x22d78be24e0>"
      ]
     },
     "metadata": {},
     "output_type": "display_data"
    }
   ],
   "source": [
    "plt.title(\"A training instance\", fontsize=14)\n",
    "plt.plot(train_inst[:-1], ts_data.ret_true(\n",
    "    train_inst[:-1]), \"bo\", markersize=15,alpha=0.5 ,label=\"instance\")\n",
    "plt.plot(train_inst[1:], ts_data.ret_true(\n",
    "    train_inst[1:]), \"ko\", markersize=7, label=\"target\")"
   ]
  },
  {
   "cell_type": "markdown",
   "metadata": {},
   "source": [
    "## Creating the model"
   ]
  },
  {
   "cell_type": "markdown",
   "metadata": {},
   "source": [
    "### Constants"
   ]
  },
  {
   "cell_type": "code",
   "execution_count": 56,
   "metadata": {
    "collapsed": true
   },
   "outputs": [],
   "source": [
    "tf.reset_default_graph()\n",
    "# Just one feature, the time series\n",
    "num_inputs = 1\n",
    "# 100 neuron layer, play with this\n",
    "num_neurons = 100\n",
    "# Just one output, predicted time series\n",
    "num_outputs = 1\n",
    "# learning rate, 0.0001 default, \n",
    "#but you can play with this\n",
    "learning_rate = 0.0001\n",
    "# how many iterations to go through \n",
    "#(training steps), you can play with this\n",
    "num_train_iterations = 2000\n",
    "# Size of the batch of data\n",
    "batch_size = 1"
   ]
  },
  {
   "cell_type": "markdown",
   "metadata": {},
   "source": [
    "### Placeholders"
   ]
  },
  {
   "cell_type": "code",
   "execution_count": 57,
   "metadata": {
    "collapsed": true
   },
   "outputs": [],
   "source": [
    "X = tf.placeholder(tf.float32, [None, num_time_steps, num_inputs])\n",
    "y = tf.placeholder(tf.float32, [None, num_time_steps, num_outputs])"
   ]
  },
  {
   "cell_type": "markdown",
   "metadata": {},
   "source": [
    "____\n",
    "____\n",
    "### RNN Cell Layer\n",
    "\n",
    "Play around with the various cells in this section, compare how they perform against each other."
   ]
  },
  {
   "cell_type": "code",
   "execution_count": 58,
   "metadata": {},
   "outputs": [
    {
     "data": {
      "text/plain": [
       "'\\ncell = tf.contrib.rnn.OutputProjectionWrapper(\\n     tf.contrib.rnn.BasicLSTMCell(num_units=num_neurons, activation=tf.nn.relu),\\n     output_size=num_outputs)    \\n\\nn_neurons = 100\\nn_layers = 3\\n\\ncell = tf.contrib.rnn.MultiRNNCell([tf.contrib.rnn.BasicRNNCell(num_units=n_neurons)\\n           for layer in range(n_layers)])\\n\\ncell = tf.contrib.rnn.BasicLSTMCell(num_units=num_neurons, activation=tf.nn.relu)\\n\\nn_neurons = 100\\nn_layers = 3\\n\\ncell = tf.contrib.rnn.MultiRNNCell([tf.contrib.rnn.BasicLSTMCell(num_units=n_neurons)\\n           for layer in range(n_layers)])\\n'"
      ]
     },
     "execution_count": 58,
     "metadata": {},
     "output_type": "execute_result"
    }
   ],
   "source": [
    "cell = tf.contrib.rnn.OutputProjectionWrapper(\n",
    "    tf.contrib.rnn.BasicRNNCell(num_units=num_neurons, activation=tf.nn.relu),\n",
    "    output_size=num_outputs)\n",
    "\"\"\"\n",
    "cell = tf.contrib.rnn.OutputProjectionWrapper(\n",
    "     tf.contrib.rnn.BasicLSTMCell(num_units=num_neurons, activation=tf.nn.relu),\n",
    "     output_size=num_outputs)    \n",
    "\n",
    "n_neurons = 100\n",
    "n_layers = 3\n",
    "\n",
    "cell = tf.contrib.rnn.MultiRNNCell([tf.contrib.rnn.BasicRNNCell(num_units=n_neurons)\n",
    "           for layer in range(n_layers)])\n",
    "\n",
    "cell = tf.contrib.rnn.BasicLSTMCell(num_units=num_neurons, activation=tf.nn.relu)\n",
    "\n",
    "n_neurons = 100\n",
    "n_layers = 3\n",
    "\n",
    "cell = tf.contrib.rnn.MultiRNNCell([tf.contrib.rnn.BasicLSTMCell(num_units=n_neurons)\n",
    "           for layer in range(n_layers)])\n",
    "\"\"\"\n"
   ]
  },
  {
   "cell_type": "markdown",
   "metadata": {},
   "source": [
    "_____\n",
    "_____"
   ]
  },
  {
   "cell_type": "markdown",
   "metadata": {},
   "source": [
    "### Dynamic RNN Cell"
   ]
  },
  {
   "cell_type": "code",
   "execution_count": 59,
   "metadata": {
    "collapsed": true
   },
   "outputs": [],
   "source": [
    "outputs, states = tf.nn.dynamic_rnn(cell, X, dtype=tf.float32)"
   ]
  },
  {
   "cell_type": "markdown",
   "metadata": {},
   "source": [
    "### Loss function and Optimizer"
   ]
  },
  {
   "cell_type": "code",
   "execution_count": 60,
   "metadata": {
    "collapsed": true
   },
   "outputs": [],
   "source": [
    "loss = tf.reduce_mean(tf.square(outputs - y)) # MSE\n",
    "optimizer = tf.train.AdamOptimizer(learning_rate=learning_rate)\n",
    "train = optimizer.minimize(loss)"
   ]
  },
  {
   "cell_type": "markdown",
   "metadata": {},
   "source": [
    "### Init Variables"
   ]
  },
  {
   "cell_type": "code",
   "execution_count": 61,
   "metadata": {
    "collapsed": true
   },
   "outputs": [],
   "source": [
    "init = tf.global_variables_initializer()"
   ]
  },
  {
   "cell_type": "markdown",
   "metadata": {},
   "source": [
    "## Session"
   ]
  },
  {
   "cell_type": "code",
   "execution_count": 62,
   "metadata": {},
   "outputs": [
    {
     "name": "stdout",
     "output_type": "stream",
     "text": [
      "0 \tMSE: 0.233602\n",
      "100 \tMSE: 0.40067\n",
      "200 \tMSE: 0.00483153\n",
      "300 \tMSE: 0.0175155\n",
      "400 \tMSE: 0.0176565\n",
      "500 \tMSE: 0.0470966\n",
      "600 \tMSE: 0.00438213\n",
      "700 \tMSE: 0.00019475\n",
      "800 \tMSE: 0.00806291\n",
      "900 \tMSE: 0.00293631\n",
      "1000 \tMSE: 0.00346564\n",
      "1100 \tMSE: 0.000276441\n",
      "1200 \tMSE: 0.00789621\n",
      "1300 \tMSE: 0.00506087\n",
      "1400 \tMSE: 0.00580755\n",
      "1500 \tMSE: 0.00288942\n",
      "1600 \tMSE: 0.00449396\n",
      "1700 \tMSE: 0.00464371\n",
      "1800 \tMSE: 0.00366746\n",
      "1900 \tMSE: 0.00159508\n"
     ]
    }
   ],
   "source": [
    "# ONLY FOR GPU USERS:\n",
    "# https://stackoverflow.com/questions/34199233/\n",
    "# how-to-prevent-tensorflow-from-allocating-the-totality-of-a-gpu-memory\n",
    "gpu_options = tf.GPUOptions(per_process_gpu_memory_fraction=0.75)\n",
    "saver = tf.train.Saver()\n",
    "with tf.Session(config=tf.ConfigProto(gpu_options=gpu_options)) as sess:\n",
    "    sess.run(init)\n",
    "    \n",
    "    for iteration in range(num_train_iterations):\n",
    "        \n",
    "        X_batch, y_batch = ts_data.next_batch(batch_size, num_time_steps)\n",
    "        sess.run(train, feed_dict={X: X_batch, y: y_batch})\n",
    "        \n",
    "        if iteration % 100 == 0:\n",
    "            \n",
    "            mse = loss.eval(feed_dict={X: X_batch, y: y_batch})\n",
    "            print(iteration, \"\\tMSE:\", mse)\n",
    "    \n",
    "    # Save Model for Later\n",
    "    saver.save(sess, \"./rnn_time_series_model\")"
   ]
  },
  {
   "cell_type": "markdown",
   "metadata": {},
   "source": [
    "### Predicting a time series t+1"
   ]
  },
  {
   "cell_type": "code",
   "execution_count": 63,
   "metadata": {},
   "outputs": [
    {
     "name": "stdout",
     "output_type": "stream",
     "text": [
      "INFO:tensorflow:Restoring parameters from ./rnn_time_series_model\n"
     ]
    },
    {
     "data": {
      "image/png": "[encoded data removed]",
      "text/plain": [
       "<matplotlib.figure.Figure at 0x22d79007cc0>"
      ]
     },
     "metadata": {},
     "output_type": "display_data"
    }
   ],
   "source": [
    "with tf.Session() as sess:                          \n",
    "    saver.restore(sess, \"./rnn_time_series_model\")   \n",
    "\n",
    "    X_new = np.sin(np.array(train_inst[:-1].reshape(-1, num_time_steps, num_inputs)))\n",
    "    y_pred = sess.run(outputs, feed_dict={X: X_new})\n",
    "plt.title(\"Testing Model\")\n",
    "# Training Instance\n",
    "plt.plot(train_inst[:-1], np.sin(\n",
    "    train_inst[:-1]), \"bo\", markersize=15,alpha=0.5, label=\"Training Instance\")\n",
    "# Target to Predict\n",
    "plt.plot(train_inst[1:], np.sin(train_inst[1:]), \"ko\", markersize=10, label=\"target\")\n",
    "# Models Prediction\n",
    "plt.plot(train_inst[1:], y_pred[0,:,0], \"r.\", markersize=10, label=\"prediction\")\n",
    "plt.xlabel(\"Time\")\n",
    "plt.legend()\n",
    "plt.tight_layout()"
   ]
  },
  {
   "cell_type": "markdown",
   "metadata": {},
   "source": [
    "## Generating New Sequences"
   ]
  },
  {
   "cell_type": "markdown",
   "metadata": {},
   "source": [
    "Sometimes can give interesting and wacky results, tread carefully"
   ]
  },
  {
   "cell_type": "code",
   "execution_count": 64,
   "metadata": {},
   "outputs": [
    {
     "name": "stdout",
     "output_type": "stream",
     "text": [
      "INFO:tensorflow:Restoring parameters from ./rnn_time_series_model\n"
     ]
    },
    {
     "data": {
      "text/plain": [
       "Text(0,0.5,'Value')"
      ]
     },
     "execution_count": 64,
     "metadata": {},
     "output_type": "execute_result"
    },
    {
     "data": {
      "image/png": "[encoded data removed]",
      "text/plain": [
       "<matplotlib.figure.Figure at 0x22d78c83f98>"
      ]
     },
     "metadata": {},
     "output_type": "display_data"
    }
   ],
   "source": [
    "with tf.Session() as sess:\n",
    "    saver.restore(sess, \"./rnn_time_series_model\")\n",
    "    # SEED WITH ZEROS\n",
    "    zero_seq_seed = [0. for i in range(num_time_steps)]\n",
    "    for iteration in range(len(ts_data.x_data) - num_time_steps):\n",
    "        X_batch = np.array(\n",
    "            zero_seq_seed[-num_time_steps:]).reshape(1, num_time_steps, 1)\n",
    "        y_pred = sess.run(outputs, feed_dict={X: X_batch})\n",
    "        zero_seq_seed.append(y_pred[0, -1, 0])\n",
    "        \n",
    "plt.plot(ts_data.x_data, zero_seq_seed, \"b-\")\n",
    "plt.plot(ts_data.x_data[:num_time_steps], \n",
    "         zero_seq_seed[:num_time_steps], \"r\", linewidth=3)\n",
    "plt.xlabel(\"Time\")\n",
    "plt.ylabel(\"Value\")"
   ]
  },
  {
   "cell_type": "code",
   "execution_count": 65,
   "metadata": {},
   "outputs": [
    {
     "name": "stdout",
     "output_type": "stream",
     "text": [
      "INFO:tensorflow:Restoring parameters from ./rnn_time_series_model\n"
     ]
    },
    {
     "data": {
      "text/plain": [
       "Text(0.5,0,'Time')"
      ]
     },
     "execution_count": 65,
     "metadata": {},
     "output_type": "execute_result"
    },
    {
     "data": {
      "image/png": "[encoded data removed]",
      "text/plain": [
       "<matplotlib.figure.Figure at 0x22b935d1dd8>"
      ]
     },
     "metadata": {},
     "output_type": "display_data"
    }
   ],
   "source": [
    "with tf.Session() as sess:\n",
    "    saver.restore(sess, \"./rnn_time_series_model\")\n",
    "    # SEED WITH Training Instance\n",
    "    training_instance = list(ts_data.y_true[:30])\n",
    "    for iteration in range(len(ts_data.x_data) -num_time_steps):\n",
    "        X_batch = np.array(\n",
    "            training_instance[-num_time_steps:]).reshape(1, num_time_steps, 1)\n",
    "        y_pred = sess.run(outputs, feed_dict={X: X_batch})\n",
    "        training_instance.append(y_pred[0, -1, 0])\n",
    "        \n",
    "plt.plot(ts_data.x_data, training_instance, \"b-\")\n",
    "plt.plot(ts_data.x_data[:num_time_steps],\n",
    "         training_instance[:num_time_steps], \"r-\", linewidth=3)\n",
    "plt.xlabel(\"Time\")"
   ]
  }
 ],
 "metadata": {
  "kernelspec": {
   "display_name": "Python 3",
   "language": "python",
   "name": "python3"
  },
  "language_info": {
   "codemirror_mode": {
    "name": "ipython",
    "version": 3
   },
   "file_extension": ".py",
   "mimetype": "text/x-python",
   "name": "python",
   "nbconvert_exporter": "python",
   "pygments_lexer": "ipython3",
   "version": "3.5.5"
  }
 },
 "nbformat": 4,
 "nbformat_minor": 2
}
