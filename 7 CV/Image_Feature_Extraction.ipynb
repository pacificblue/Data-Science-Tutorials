{
  "nbformat": 4,
  "nbformat_minor": 0,
  "metadata": {
    "kernelspec": {
      "display_name": "Python 3",
      "language": "python",
      "name": "python3"
    },
    "language_info": {
      "codemirror_mode": {
        "name": "ipython",
        "version": 3
      },
      "file_extension": ".py",
      "mimetype": "text/x-python",
      "name": "python",
      "nbconvert_exporter": "python",
      "pygments_lexer": "ipython3",
      "version": "3.7.4"
    },
    "colab": {
      "name": "Copy of Coding Tutorial.ipynb",
      "provenance": [],
      "toc_visible": true,
      "include_colab_link": true
    }
  },
  "cells": [
    {
      "cell_type": "markdown",
      "metadata": {
        "id": "view-in-github",
        "colab_type": "text"
      },
      "source": [
        "<a href=\"https://colab.research.google.com/github/pacificblue/Data-Science-Tutorials/blob/master/7%20CV/Image_Feature_Extraction.ipynb\" target=\"_parent\"><img src=\"https://colab.research.google.com/assets/colab-badge.svg\" alt=\"Open In Colab\"/></a>"
      ]
    },
    {
      "cell_type": "code",
      "metadata": {
        "scrolled": false,
        "colab": {
          "base_uri": "https://localhost:8080/"
        },
        "id": "zroJSztURH_s",
        "outputId": "e8ddbbb8-6026-4444-e8e7-afb60f9abfb8"
      },
      "source": [
        "import tensorflow as tf\n",
        "print(tf.__version__)"
      ],
      "execution_count": null,
      "outputs": [
        {
          "output_type": "stream",
          "text": [
            "2.4.1\n"
          ],
          "name": "stdout"
        }
      ]
    },
    {
      "cell_type": "markdown",
      "metadata": {
        "id": "bPlMtbWvRH_u"
      },
      "source": [
        "# The Keras functional API"
      ]
    },
    {
      "cell_type": "markdown",
      "metadata": {
        "id": "y2LZoPrZRH_u"
      },
      "source": [
        " ## Coding tutorials\n",
        " #### [1. Accessing model layers](#coding_tutorial_3)\n",
        " #### [2. Freezing layers](#coding_tutorial_4)"
      ]
    },
    {
      "cell_type": "markdown",
      "metadata": {
        "id": "EQf6WD4uRIAR"
      },
      "source": [
        "***\n",
        "<a id=\"coding_tutorial_3\"></a>\n",
        "## Accessing model layers"
      ]
    },
    {
      "cell_type": "code",
      "metadata": {
        "scrolled": false,
        "id": "fYhDJtfsRIAR"
      },
      "source": [
        "import numpy as np\n",
        "import matplotlib.pyplot as plt\n",
        "%matplotlib inline"
      ],
      "execution_count": null,
      "outputs": []
    },
    {
      "cell_type": "markdown",
      "metadata": {
        "id": "RhoY96dxRIAS"
      },
      "source": [
        "#### Load the pre-trained model"
      ]
    },
    {
      "cell_type": "markdown",
      "metadata": {
        "id": "CCktFcH_RIAS"
      },
      "source": [
        "In this section, we aim to demonstrate accessing layer attributes within a model.\n",
        "\n",
        "Let's get started by loading the `VGG19` pre-trained model from the `keras.applications` library, which is a very deep network trained on more than a million images from the ImageNet database. The network is trained to classify images into 1000 object categories."
      ]
    },
    {
      "cell_type": "code",
      "metadata": {
        "id": "Cgb7N3-SRIAS"
      },
      "source": [
        "! pip install pypac"
      ],
      "execution_count": null,
      "outputs": []
    },
    {
      "cell_type": "code",
      "metadata": {
        "scrolled": false,
        "id": "QEodBFFeRIAT"
      },
      "source": [
        "# Load the VGG19 model\n",
        "from tensorflow.keras.applications import VGG19\n",
        "\n",
        "vgg_model = VGG19(weights='imagenet')"
      ],
      "execution_count": null,
      "outputs": []
    },
    {
      "cell_type": "code",
      "metadata": {
        "id": "ndHpEykORIAU"
      },
      "source": [
        "# Get the inputs, layers and display the summary\n",
        "vgg_input = vgg_model.input\n",
        "vgg_layers = vgg_model.layers\n",
        "vgg_model.summary()"
      ],
      "execution_count": null,
      "outputs": []
    },
    {
      "cell_type": "markdown",
      "metadata": {
        "id": "moVR3hDPRIAU"
      },
      "source": [
        "#### Build a model to access the layer outputs"
      ]
    },
    {
      "cell_type": "code",
      "metadata": {
        "id": "_ik6NgAvRIAU"
      },
      "source": [
        "from tensorflow.keras.models import Model"
      ],
      "execution_count": null,
      "outputs": []
    },
    {
      "cell_type": "code",
      "metadata": {
        "scrolled": false,
        "id": "d8tlZiQgRIAU"
      },
      "source": [
        "# Build a model that returns the layer outputs\n",
        "layer_outputs = [layer.output for layer in vgg_layers]\n",
        "features = Model(inputs=vgg_input, outputs=layer_outputs)"
      ],
      "execution_count": null,
      "outputs": []
    },
    {
      "cell_type": "code",
      "metadata": {
        "scrolled": true,
        "id": "LDAEnvRgRIAV"
      },
      "source": [
        "# Plot the model\n",
        "plot_model(features, 'vgg19_model.png', show_shapes=True)"
      ],
      "execution_count": null,
      "outputs": []
    },
    {
      "cell_type": "code",
      "metadata": {
        "scrolled": false,
        "id": "ptT0ogOHRIAV"
      },
      "source": [
        "# Test the model on a random input\n",
        "img = np.random.random((1, 224, 224, 3)).astype('float32')\n",
        "extracted_features = features(img)"
      ],
      "execution_count": null,
      "outputs": []
    },
    {
      "cell_type": "markdown",
      "metadata": {
        "id": "1_24e7yWRIAV"
      },
      "source": [
        "#### Load the 'cool cat' picture"
      ]
    },
    {
      "cell_type": "markdown",
      "metadata": {
        "id": "1TGWj6BoRIAV"
      },
      "source": [
        "In Zambia’s South Luangwa National Park, a photographer had been watching a pride of lions while they slept off a feast from a buffalo kill. When this female walked away, he anticipated that she might be going for a drink and so he positioned his vehicle on the opposite side of the waterhole. The `cool cat` picture is one of the highly commended 2018 Image from Wildlife Photographer of the Year."
      ]
    },
    {
      "cell_type": "code",
      "metadata": {
        "scrolled": false,
        "id": "DRPlx3c9RIAW",
        "colab": {
          "base_uri": "https://localhost:8080/",
          "height": 316
        },
        "outputId": "ff23e3a4-a10e-49d6-b13e-ac4543a1d1b1"
      },
      "source": [
        "# Display the original image\n",
        "import IPython.display as display\n",
        "from PIL import Image\n",
        "\n",
        "display.display(Image.open('data/cool_cat.jpg'))"
      ],
      "execution_count": null,
      "outputs": [
        {
          "output_type": "error",
          "ename": "FileNotFoundError",
          "evalue": "ignored",
          "traceback": [
            "\u001b[0;31m---------------------------------------------------------------------------\u001b[0m",
            "\u001b[0;31mFileNotFoundError\u001b[0m                         Traceback (most recent call last)",
            "\u001b[0;32m<ipython-input-4-5bfc469df1f1>\u001b[0m in \u001b[0;36m<module>\u001b[0;34m()\u001b[0m\n\u001b[1;32m      3\u001b[0m \u001b[0;32mfrom\u001b[0m \u001b[0mPIL\u001b[0m \u001b[0;32mimport\u001b[0m \u001b[0mImage\u001b[0m\u001b[0;34m\u001b[0m\u001b[0;34m\u001b[0m\u001b[0m\n\u001b[1;32m      4\u001b[0m \u001b[0;34m\u001b[0m\u001b[0m\n\u001b[0;32m----> 5\u001b[0;31m \u001b[0mdisplay\u001b[0m\u001b[0;34m.\u001b[0m\u001b[0mdisplay\u001b[0m\u001b[0;34m(\u001b[0m\u001b[0mImage\u001b[0m\u001b[0;34m.\u001b[0m\u001b[0mopen\u001b[0m\u001b[0;34m(\u001b[0m\u001b[0;34m'data/cool_cat.jpg'\u001b[0m\u001b[0;34m)\u001b[0m\u001b[0;34m)\u001b[0m\u001b[0;34m\u001b[0m\u001b[0;34m\u001b[0m\u001b[0m\n\u001b[0m",
            "\u001b[0;32m/usr/local/lib/python3.7/dist-packages/PIL/Image.py\u001b[0m in \u001b[0;36mopen\u001b[0;34m(fp, mode)\u001b[0m\n\u001b[1;32m   2807\u001b[0m \u001b[0;34m\u001b[0m\u001b[0m\n\u001b[1;32m   2808\u001b[0m     \u001b[0;32mif\u001b[0m \u001b[0mfilename\u001b[0m\u001b[0;34m:\u001b[0m\u001b[0;34m\u001b[0m\u001b[0;34m\u001b[0m\u001b[0m\n\u001b[0;32m-> 2809\u001b[0;31m         \u001b[0mfp\u001b[0m \u001b[0;34m=\u001b[0m \u001b[0mbuiltins\u001b[0m\u001b[0;34m.\u001b[0m\u001b[0mopen\u001b[0m\u001b[0;34m(\u001b[0m\u001b[0mfilename\u001b[0m\u001b[0;34m,\u001b[0m \u001b[0;34m\"rb\"\u001b[0m\u001b[0;34m)\u001b[0m\u001b[0;34m\u001b[0m\u001b[0;34m\u001b[0m\u001b[0m\n\u001b[0m\u001b[1;32m   2810\u001b[0m         \u001b[0mexclusive_fp\u001b[0m \u001b[0;34m=\u001b[0m \u001b[0;32mTrue\u001b[0m\u001b[0;34m\u001b[0m\u001b[0;34m\u001b[0m\u001b[0m\n\u001b[1;32m   2811\u001b[0m \u001b[0;34m\u001b[0m\u001b[0m\n",
            "\u001b[0;31mFileNotFoundError\u001b[0m: [Errno 2] No such file or directory: 'data/cool_cat.jpg'"
          ]
        }
      ]
    },
    {
      "cell_type": "markdown",
      "metadata": {
        "id": "73pOtvsvRIAW"
      },
      "source": [
        "#### Visualise network features from the input image"
      ]
    },
    {
      "cell_type": "code",
      "metadata": {
        "scrolled": false,
        "id": "XjKv4rIPRIAX"
      },
      "source": [
        "# Preprocess the image\n",
        "\n",
        "from tensorflow.keras.applications.vgg19 import preprocess_input\n",
        "from tensorflow.keras.preprocessing import image\n",
        "\n",
        "img_path = 'data/cool_cat.jpg'\n",
        "img = image.load_img(img_path, target_size=(224, 224))\n",
        "x = image.img_to_array(img)\n",
        "x = np.expand_dims(x, axis=0)\n",
        "x = preprocess_input(x)"
      ],
      "execution_count": null,
      "outputs": []
    },
    {
      "cell_type": "code",
      "metadata": {
        "scrolled": false,
        "id": "Zj-BP2rmRIAX"
      },
      "source": [
        "# Extract the features\n",
        "extracted_features = features(x)"
      ],
      "execution_count": null,
      "outputs": []
    },
    {
      "cell_type": "code",
      "metadata": {
        "scrolled": false,
        "id": "XfJO2jbsRIAX"
      },
      "source": [
        "# Visualise the input channels\n",
        "\n",
        "imgs = f1[0, :, :]\n",
        "plt.figure(figsize=(15, 15))\n",
        "\n",
        "for n in range(3):\n",
        "    ax = plt.subplot(1, 3, n + 1)\n",
        "    plt.imshow(imgs[:, :, n])\n",
        "    plt.axis('off')\n",
        "plt.subplots_adjust(wspace=0.01, hspace=0.01)"
      ],
      "execution_count": null,
      "outputs": []
    },
    {
      "cell_type": "code",
      "metadata": {
        "scrolled": false,
        "id": "luQHhoDmRIAX"
      },
      "source": [
        "# Visualise some features in the first hidden layer\n",
        "f2 = extracted_features[1]\n",
        "print('f2.shape: ', f2.shape)\n",
        "\n",
        "imgs = f2[0, :, :]\n",
        "plt.figure(figsize=(15, 15))\n",
        "\n",
        "for n in range(16):\n",
        "    ax = plt.subplot(4, 4, n + 1)\n",
        "    plt.imshow(imgs[:, :, n])\n",
        "    plt.axis('off')\n",
        "plt.subplots_adjust(wspace=0.01, hspace=0.01)"
      ],
      "execution_count": null,
      "outputs": []
    },
    {
      "cell_type": "code",
      "metadata": {
        "scrolled": false,
        "id": "J7OP0_YBRIAY"
      },
      "source": [
        "# Build a model to extract features by layer name\n",
        "extracted_features_block1_pool = Model(inputs=features.input, \n",
        "                                       outputs=features.get_layer('block1_pool').output)\n",
        "block1_pool_features = extracted_features_block1_pool.predict(x)"
      ],
      "execution_count": null,
      "outputs": []
    },
    {
      "cell_type": "code",
      "metadata": {
        "scrolled": false,
        "id": "nbdPHbHbRIAY"
      },
      "source": [
        "# Visualise some features from the extracted layer output\n",
        "f3 = block1_pool_features\n",
        "print('f3.shape: ', f3.shape)\n",
        "\n",
        "imgs = f3[0, :, :]\n",
        "plt.figure(figsize=(15, 15))\n",
        "\n",
        "for n in range(16):\n",
        "    ax = plt.subplot(4, 4, n + 1)\n",
        "    plt.imshow(imgs[:, :, n])\n",
        "    plt.axis('off')\n",
        "plt.subplots_adjust(wspace=0.01, hspace=0.01)"
      ],
      "execution_count": null,
      "outputs": []
    },
    {
      "cell_type": "code",
      "metadata": {
        "scrolled": false,
        "id": "sCIQtAPIRIAY"
      },
      "source": [
        "# Build a model to extract features by layer name\n",
        "extracted_features_block5_conv4 = Model(inputs=features.input, \n",
        "                                       outputs=features.get_layer('block5_conv4').output)\n",
        "block5_conv4_features = extracted_features_block5_conv4.predict(x)\n",
        "\n",
        "# Visualize some features in the first hidden layer\n",
        "f4 = block5_conv4_features\n",
        "print('f4.shape: ', f4.shape)\n",
        "\n",
        "imgs = f4[0, :, :]\n",
        "plt.figure(figsize=(15, 15))\n",
        "\n",
        "for n in range(16):\n",
        "    ax = plt.subplot(4, 4, n + 1)\n",
        "    plt.imshow(imgs[:, :, n])\n",
        "    plt.axis('off')\n",
        "plt.subplots_adjust(wspace=0.01, hspace=0.01)"
      ],
      "execution_count": null,
      "outputs": []
    },
    {
      "cell_type": "markdown",
      "metadata": {
        "id": "vuQQzspuRIAZ"
      },
      "source": [
        "***\n",
        "<a id=\"coding_tutorial_4\"></a>\n",
        "## Freezing layers"
      ]
    },
    {
      "cell_type": "code",
      "metadata": {
        "scrolled": false,
        "id": "uFbfH-iJRIAZ"
      },
      "source": [
        "import numpy as np\n",
        "import matplotlib.pyplot as plt\n",
        "%matplotlib inline"
      ],
      "execution_count": null,
      "outputs": []
    },
    {
      "cell_type": "markdown",
      "metadata": {
        "id": "9g7b8nDCRIAZ"
      },
      "source": [
        "#### Build the model"
      ]
    },
    {
      "cell_type": "code",
      "metadata": {
        "scrolled": false,
        "id": "u_C_2oyaRIAZ"
      },
      "source": [
        "# Build a small Sequential model\n",
        "\n",
        "from tensorflow.keras.models import Sequential\n",
        "from tensorflow.keras import layers\n",
        "\n",
        "model = Sequential([\n",
        "    layers.Dense(4, input_shape=(4,), activation='relu', kernel_initializer='random_uniform',\n",
        "                 bias_initializer='ones'),\n",
        "    layers.Dense(2, activation='relu', kernel_initializer='lecun_normal', bias_initializer='ones'),\n",
        "    layers.Dense(4, activation='softmax'),\n",
        "])"
      ],
      "execution_count": null,
      "outputs": []
    },
    {
      "cell_type": "code",
      "metadata": {
        "scrolled": false,
        "id": "D_-88ClxRIAa"
      },
      "source": [
        "# Display the model summary\n",
        "\n",
        "model.summary()"
      ],
      "execution_count": null,
      "outputs": []
    },
    {
      "cell_type": "markdown",
      "metadata": {
        "id": "BayqAW4uRIAa"
      },
      "source": [
        "#### Examine the weight matrix variation over training"
      ]
    },
    {
      "cell_type": "code",
      "metadata": {
        "scrolled": false,
        "id": "ib2xX83XRIAa"
      },
      "source": [
        "# Retrieve the weights and biases\n",
        "def  get_weights(model):\n",
        "    return [e.weights[0].numpy() for e in model.layers]\n",
        "\n",
        "def get_biases(model):\n",
        "    return [e.bias.numpy() for e in model.layers]\n",
        "\n",
        "def plot_delta_weights(W0_lyaers, W1_layers, b0_layers, b1_layers):\n",
        "    # Plot the variation\n",
        "    plt.figure(figsize=(8, 8))\n",
        "    \n",
        "    for n in range(3):\n",
        "        delta_l = W1_layers[n] - W0_layers[n]\n",
        "        print(\"Layer \" + str(n) + ': Bias variation: ', np.linalg.norm(b1_layers[n] - b0_layers[n]))\n",
        "        ax = plt.subplot(1, 3, n + 1)\n",
        "        plt.imshow(delta_l)\n",
        "        plt.title('Layer ' + str(n))\n",
        "        plt.axis('off')\n",
        "    plt.colorbar()\n",
        "    plt.suptitle('Weight matrices variation')\n",
        "    plt.show()"
      ],
      "execution_count": null,
      "outputs": []
    },
    {
      "cell_type": "code",
      "metadata": {
        "scrolled": false,
        "id": "vGB8zkQ3RIAa"
      },
      "source": [
        "# Construct a synthetic dataset\n",
        "\n",
        "x_train = np.random.random((100, 4))\n",
        "y_train = x_train\n",
        "\n",
        "x_test = np.random.random((20, 4))\n",
        "y_test = x_test"
      ],
      "execution_count": null,
      "outputs": []
    },
    {
      "cell_type": "code",
      "metadata": {
        "scrolled": false,
        "id": "NlxzEHCRRIAb"
      },
      "source": [
        "# Compile and fit the model\n",
        "\n",
        "model.compile(optimizer='adam',\n",
        "              loss='mse',\n",
        "              metrics=['acc'])\n",
        "\n",
        "model.fit(x_train, y_train, epochs=50, verbose=False);"
      ],
      "execution_count": null,
      "outputs": []
    },
    {
      "cell_type": "code",
      "metadata": {
        "scrolled": false,
        "id": "0vdlYxY3RIAb"
      },
      "source": [
        "# Retrieve weights and biases\n",
        "W1_layers = get_weights(model)\n",
        "b1_layers = get_biases(model)"
      ],
      "execution_count": null,
      "outputs": []
    },
    {
      "cell_type": "code",
      "metadata": {
        "scrolled": false,
        "id": "ozgu8v2BRIAb"
      },
      "source": [
        "# Plot the variation\n",
        "\n",
        "plt.figure(figsize=(8,8))\n",
        "for n in range(3):\n",
        "    delta_l = W1_layers[n] - W0_layers[n]\n",
        "    print('Layer '+str(n)+': bias variation: ', np.linalg.norm(b1_layers[n] - b0_layers[n]))\n",
        "    ax = plt.subplot(1,3,n+1)\n",
        "    plt.imshow(delta_l)\n",
        "    plt.title('Layer '+str(n))\n",
        "    plt.axis('off')\n",
        "plt.colorbar()\n",
        "plt.suptitle('Weight matrices variation');"
      ],
      "execution_count": null,
      "outputs": []
    },
    {
      "cell_type": "markdown",
      "metadata": {
        "id": "-9ADQXU6RIAb"
      },
      "source": [
        "#### Freeze layers at build time"
      ]
    },
    {
      "cell_type": "code",
      "metadata": {
        "scrolled": false,
        "id": "ztHroFJBRIAc"
      },
      "source": [
        "# Count the trainable and non trainable variables before the freezing\n",
        "from tensorflow.keras.layers import MaxPooling2D\n",
        "\n",
        "inputs = Input(shape=(8, 8, 1), name='input_layer')\n",
        "h = Conv2D(16, 3, activation='relu', name='conv2d_layer')(inputs)\n",
        "h = MaxPooling2D(3, name='max_pool2d_layer')(h)\n",
        "h = Flatten(name='flatten_layer')(h)\n",
        "outputs = Dense(10, activation='softmax', name='softmax_layer')(h)\n",
        "\n",
        "model = Model(inputs=inputs, outputs=outputs)"
      ],
      "execution_count": null,
      "outputs": []
    },
    {
      "cell_type": "code",
      "metadata": {
        "id": "eENVgxY7RIAc"
      },
      "source": [
        "# Display the number of trainable and non trainable variables before the freezing\n",
        "\n",
        "print(\"\\n Before freezing:\\n\\t Number of trainable variables: \", n_trainable_variables,\n",
        "                         \"\\n\\t Number of non trainable variables: \", n_non_trainable_variables)"
      ],
      "execution_count": null,
      "outputs": []
    },
    {
      "cell_type": "code",
      "metadata": {
        "scrolled": false,
        "id": "6EJEeAXiRIAc"
      },
      "source": [
        "# Build the model\n",
        "model = Sequential([\n",
        "    Dense(4, input_shape=(4, ), activation='relu', kernel_initializer='random_uniform', \n",
        "          bias_initializer='ones', trainable=False),\n",
        "    Dense(2, activation='relu', kernel_initializer='lecun_normal', bias_initializer='ones'),\n",
        "    Dense(4, activation='softmax')\n",
        "])"
      ],
      "execution_count": null,
      "outputs": []
    },
    {
      "cell_type": "code",
      "metadata": {
        "scrolled": false,
        "id": "-QLm8QEeRIAc"
      },
      "source": [
        "# Count the trainable and non trainable variables after the freezing\n",
        "n_trainable_variables = len(model.trainable_variables)\n",
        "n_non_trainable_variables = len(model.non_trainable_variables)\n",
        "\n",
        "# Display the number of trainable and non-trainable variables before freezing\n",
        "print(\"Before freezing: \\n\\t Number of trainable variables: \", n_trainable_variables,\n",
        "      \"\\n\\t Number of non Trainable variables: \", n_non_trainable_variables)\n"
      ],
      "execution_count": null,
      "outputs": []
    },
    {
      "cell_type": "code",
      "metadata": {
        "id": "dntIr-pzRIAd"
      },
      "source": [
        "# Display the number of trainable and non trainable variables after the freezing\n",
        "\n",
        "print(\"\\n After freezing:\\n\\t Number of trainable variables: \", n_trainable_variables,\n",
        "                         \"\\n\\t Number of non trainable variables: \", n_non_trainable_variables)"
      ],
      "execution_count": null,
      "outputs": []
    },
    {
      "cell_type": "code",
      "metadata": {
        "scrolled": false,
        "id": "S7rk60PIRIAd"
      },
      "source": [
        "# Retrieve weights and biases\n",
        "W0_layers = get_weights(model)\n",
        "b0_layers = get_biases(model)"
      ],
      "execution_count": null,
      "outputs": []
    },
    {
      "cell_type": "code",
      "metadata": {
        "scrolled": false,
        "id": "zKuQbGyoRIAd"
      },
      "source": [
        "# Compile and fit the model\n",
        "\n",
        "model.compile(optimizer='adam',\n",
        "              loss='mse',\n",
        "              metrics=['acc'])\n",
        "\n",
        "model.fit(x_train, y_train, epochs=50, verbose=False);"
      ],
      "execution_count": null,
      "outputs": []
    },
    {
      "cell_type": "code",
      "metadata": {
        "scrolled": false,
        "id": "saZiKE2FRIAd"
      },
      "source": [
        "# Retrieve weights and biases\n",
        "W1_layers = get_weights(model)\n",
        "b1_layers = get_biases(model)"
      ],
      "execution_count": null,
      "outputs": []
    },
    {
      "cell_type": "code",
      "metadata": {
        "scrolled": false,
        "id": "O_h2ELDDRIAe"
      },
      "source": [
        "# Plot the variation\n",
        "plot_delta_weights(W0_layers, W1_layers, b0_layers, b1_layers)"
      ],
      "execution_count": null,
      "outputs": []
    },
    {
      "cell_type": "markdown",
      "metadata": {
        "id": "YXJWdQksRIAe"
      },
      "source": [
        "#### Freeze layers of a pre-built model"
      ]
    },
    {
      "cell_type": "code",
      "metadata": {
        "scrolled": false,
        "id": "UrA-AjiZRIAe"
      },
      "source": [
        "# Count the trainable and non trainable variables before the freezing\n",
        "\n",
        "print(\"\\n Before freezing:\\n\\t Number of trainable variables: \", len(model.trainable_variables),\n",
        "                         \"\\n\\t Number of non trainable variables: \", len(model.non_trainable_variables))"
      ],
      "execution_count": null,
      "outputs": []
    },
    {
      "cell_type": "code",
      "metadata": {
        "scrolled": false,
        "id": "1C74-EVQRIAe"
      },
      "source": [
        "# Freeze the second layer\n",
        "model.layers[1].trainable=False"
      ],
      "execution_count": null,
      "outputs": []
    },
    {
      "cell_type": "code",
      "metadata": {
        "scrolled": false,
        "id": "MmSEpnPcRIAf"
      },
      "source": [
        "# Count the trainable and non trainable variables after the freezing\n",
        "\n",
        "print(\"\\n After freezing:\\n\\t Number of trainable variables: \", len(model.trainable_variables),\n",
        "                        \"\\n\\t Number of non trainable variables: \", len(model.non_trainable_variables))"
      ],
      "execution_count": null,
      "outputs": []
    },
    {
      "cell_type": "code",
      "metadata": {
        "scrolled": false,
        "id": "yvaSL8KGRIAf"
      },
      "source": [
        "# Compile and fit the model\n",
        "\n",
        "model.compile(optimizer='adam',\n",
        "              loss='mse',\n",
        "              metrics=['acc'])\n",
        "\n",
        "model.fit(x_train, y_train, epochs=50, verbose=False);"
      ],
      "execution_count": null,
      "outputs": []
    },
    {
      "cell_type": "code",
      "metadata": {
        "scrolled": false,
        "id": "Lyf4W3bARIAf"
      },
      "source": [
        "# Retrieve weights and biases\n",
        "W2_layers = get_weights(model)\n",
        "b2_layers = get_biases(model)"
      ],
      "execution_count": null,
      "outputs": []
    },
    {
      "cell_type": "code",
      "metadata": {
        "scrolled": false,
        "id": "Ir_dtQwSRIAf"
      },
      "source": [
        "# Plot the variation\n",
        "plot_delta_weights(W1_layers, W2_layers, b1_layers, b2_layers)"
      ],
      "execution_count": null,
      "outputs": []
    }
  ]
}